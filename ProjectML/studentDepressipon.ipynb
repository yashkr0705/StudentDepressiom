{
 "cells": [
  {
   "cell_type": "code",
   "execution_count": 69,
   "id": "1a55c9aa-dba4-4d78-94dd-972bb1c94d5b",
   "metadata": {},
   "outputs": [],
   "source": [
    "## LIBS\n",
    "import pandas as pd\n",
    "import matplotlib.pyplot as plt\n",
    "import seaborn as sns\n",
    "from sklearn.tree import DecisionTreeClassifier\n",
    "from sklearn.naive_bayes import GaussianNB\n",
    "import xgboost as xgb\n",
    "from sklearn.ensemble import RandomForestClassifier, GradientBoostingClassifier\n",
    "import utils\n",
    "from sklearn.preprocessing import StandardScaler, PolynomialFeatures\n",
    "from sklearn.preprocessing import OneHotEncoder\n",
    "from sklearn.model_selection import train_test_split\n",
    "from sklearn.metrics import mean_squared_error\n",
    "from sklearn.linear_model import LogisticRegression\n",
    "from sklearn.metrics import accuracy_score\n",
    "from sklearn.metrics import confusion_matrix\n",
    "import warnings\n",
    "warnings.filterwarnings('ignore', category=FutureWarning)\n"
   ]
  },
  {
   "cell_type": "code",
   "execution_count": 70,
   "id": "b07c04a8-ba72-473a-8abe-4b053b78870b",
   "metadata": {},
   "outputs": [],
   "source": [
    "main = pd.read_csv(r\"C:\\Users\\yashk\\Desktop\\ProjectML\\data.csv.csv\")\n"
   ]
  },
  {
   "cell_type": "code",
   "execution_count": 71,
   "id": "91694624-9f5c-46c8-aa8e-af99448ff371",
   "metadata": {},
   "outputs": [
    {
     "data": {
      "text/html": [
       "<div>\n",
       "<style scoped>\n",
       "    .dataframe tbody tr th:only-of-type {\n",
       "        vertical-align: middle;\n",
       "    }\n",
       "\n",
       "    .dataframe tbody tr th {\n",
       "        vertical-align: top;\n",
       "    }\n",
       "\n",
       "    .dataframe thead th {\n",
       "        text-align: right;\n",
       "    }\n",
       "</style>\n",
       "<table border=\"1\" class=\"dataframe\">\n",
       "  <thead>\n",
       "    <tr style=\"text-align: right;\">\n",
       "      <th></th>\n",
       "      <th>id</th>\n",
       "      <th>Gender</th>\n",
       "      <th>Age</th>\n",
       "      <th>City</th>\n",
       "      <th>Profession</th>\n",
       "      <th>Academic Pressure</th>\n",
       "      <th>Work Pressure</th>\n",
       "      <th>CGPA</th>\n",
       "      <th>Study Satisfaction</th>\n",
       "      <th>Job Satisfaction</th>\n",
       "      <th>Sleep Duration</th>\n",
       "      <th>Dietary Habits</th>\n",
       "      <th>Degree</th>\n",
       "      <th>Have you ever had suicidal thoughts ?</th>\n",
       "      <th>Work/Study Hours</th>\n",
       "      <th>Financial Stress</th>\n",
       "      <th>Family History of Mental Illness</th>\n",
       "      <th>Depression</th>\n",
       "    </tr>\n",
       "  </thead>\n",
       "  <tbody>\n",
       "    <tr>\n",
       "      <th>0</th>\n",
       "      <td>2</td>\n",
       "      <td>Male</td>\n",
       "      <td>33.0</td>\n",
       "      <td>Visakhapatnam</td>\n",
       "      <td>Student</td>\n",
       "      <td>5.0</td>\n",
       "      <td>0.0</td>\n",
       "      <td>8.97</td>\n",
       "      <td>2.0</td>\n",
       "      <td>0.0</td>\n",
       "      <td>5-6 hours</td>\n",
       "      <td>Healthy</td>\n",
       "      <td>B.Pharm</td>\n",
       "      <td>Yes</td>\n",
       "      <td>3.0</td>\n",
       "      <td>1.0</td>\n",
       "      <td>No</td>\n",
       "      <td>1</td>\n",
       "    </tr>\n",
       "    <tr>\n",
       "      <th>1</th>\n",
       "      <td>8</td>\n",
       "      <td>Female</td>\n",
       "      <td>24.0</td>\n",
       "      <td>Bangalore</td>\n",
       "      <td>Student</td>\n",
       "      <td>2.0</td>\n",
       "      <td>0.0</td>\n",
       "      <td>5.90</td>\n",
       "      <td>5.0</td>\n",
       "      <td>0.0</td>\n",
       "      <td>5-6 hours</td>\n",
       "      <td>Moderate</td>\n",
       "      <td>BSc</td>\n",
       "      <td>No</td>\n",
       "      <td>3.0</td>\n",
       "      <td>2.0</td>\n",
       "      <td>Yes</td>\n",
       "      <td>0</td>\n",
       "    </tr>\n",
       "    <tr>\n",
       "      <th>2</th>\n",
       "      <td>26</td>\n",
       "      <td>Male</td>\n",
       "      <td>31.0</td>\n",
       "      <td>Srinagar</td>\n",
       "      <td>Student</td>\n",
       "      <td>3.0</td>\n",
       "      <td>0.0</td>\n",
       "      <td>7.03</td>\n",
       "      <td>5.0</td>\n",
       "      <td>0.0</td>\n",
       "      <td>Less than 5 hours</td>\n",
       "      <td>Healthy</td>\n",
       "      <td>BA</td>\n",
       "      <td>No</td>\n",
       "      <td>9.0</td>\n",
       "      <td>1.0</td>\n",
       "      <td>Yes</td>\n",
       "      <td>0</td>\n",
       "    </tr>\n",
       "    <tr>\n",
       "      <th>3</th>\n",
       "      <td>30</td>\n",
       "      <td>Female</td>\n",
       "      <td>28.0</td>\n",
       "      <td>Varanasi</td>\n",
       "      <td>Student</td>\n",
       "      <td>3.0</td>\n",
       "      <td>0.0</td>\n",
       "      <td>5.59</td>\n",
       "      <td>2.0</td>\n",
       "      <td>0.0</td>\n",
       "      <td>7-8 hours</td>\n",
       "      <td>Moderate</td>\n",
       "      <td>BCA</td>\n",
       "      <td>Yes</td>\n",
       "      <td>4.0</td>\n",
       "      <td>5.0</td>\n",
       "      <td>Yes</td>\n",
       "      <td>1</td>\n",
       "    </tr>\n",
       "    <tr>\n",
       "      <th>4</th>\n",
       "      <td>32</td>\n",
       "      <td>Female</td>\n",
       "      <td>25.0</td>\n",
       "      <td>Jaipur</td>\n",
       "      <td>Student</td>\n",
       "      <td>4.0</td>\n",
       "      <td>0.0</td>\n",
       "      <td>8.13</td>\n",
       "      <td>3.0</td>\n",
       "      <td>0.0</td>\n",
       "      <td>5-6 hours</td>\n",
       "      <td>Moderate</td>\n",
       "      <td>M.Tech</td>\n",
       "      <td>Yes</td>\n",
       "      <td>1.0</td>\n",
       "      <td>1.0</td>\n",
       "      <td>No</td>\n",
       "      <td>0</td>\n",
       "    </tr>\n",
       "  </tbody>\n",
       "</table>\n",
       "</div>"
      ],
      "text/plain": [
       "   id  Gender   Age           City Profession  Academic Pressure  \\\n",
       "0   2    Male  33.0  Visakhapatnam    Student                5.0   \n",
       "1   8  Female  24.0      Bangalore    Student                2.0   \n",
       "2  26    Male  31.0       Srinagar    Student                3.0   \n",
       "3  30  Female  28.0       Varanasi    Student                3.0   \n",
       "4  32  Female  25.0         Jaipur    Student                4.0   \n",
       "\n",
       "   Work Pressure  CGPA  Study Satisfaction  Job Satisfaction  \\\n",
       "0            0.0  8.97                 2.0               0.0   \n",
       "1            0.0  5.90                 5.0               0.0   \n",
       "2            0.0  7.03                 5.0               0.0   \n",
       "3            0.0  5.59                 2.0               0.0   \n",
       "4            0.0  8.13                 3.0               0.0   \n",
       "\n",
       "      Sleep Duration Dietary Habits   Degree  \\\n",
       "0          5-6 hours        Healthy  B.Pharm   \n",
       "1          5-6 hours       Moderate      BSc   \n",
       "2  Less than 5 hours        Healthy       BA   \n",
       "3          7-8 hours       Moderate      BCA   \n",
       "4          5-6 hours       Moderate   M.Tech   \n",
       "\n",
       "  Have you ever had suicidal thoughts ?  Work/Study Hours  Financial Stress  \\\n",
       "0                                   Yes               3.0               1.0   \n",
       "1                                    No               3.0               2.0   \n",
       "2                                    No               9.0               1.0   \n",
       "3                                   Yes               4.0               5.0   \n",
       "4                                   Yes               1.0               1.0   \n",
       "\n",
       "  Family History of Mental Illness  Depression  \n",
       "0                               No           1  \n",
       "1                              Yes           0  \n",
       "2                              Yes           0  \n",
       "3                              Yes           1  \n",
       "4                               No           0  "
      ]
     },
     "execution_count": 71,
     "metadata": {},
     "output_type": "execute_result"
    }
   ],
   "source": [
    "main.head()"
   ]
  },
  {
   "cell_type": "code",
   "execution_count": 72,
   "id": "3750c22c-bcb9-452e-b276-502816a499c5",
   "metadata": {},
   "outputs": [
    {
     "data": {
      "text/html": [
       "<div>\n",
       "<style scoped>\n",
       "    .dataframe tbody tr th:only-of-type {\n",
       "        vertical-align: middle;\n",
       "    }\n",
       "\n",
       "    .dataframe tbody tr th {\n",
       "        vertical-align: top;\n",
       "    }\n",
       "\n",
       "    .dataframe thead th {\n",
       "        text-align: right;\n",
       "    }\n",
       "</style>\n",
       "<table border=\"1\" class=\"dataframe\">\n",
       "  <thead>\n",
       "    <tr style=\"text-align: right;\">\n",
       "      <th></th>\n",
       "      <th>Gender</th>\n",
       "      <th>Age</th>\n",
       "      <th>City</th>\n",
       "      <th>Profession</th>\n",
       "      <th>Academic Pressure</th>\n",
       "      <th>Work Pressure</th>\n",
       "      <th>CGPA</th>\n",
       "      <th>Study Satisfaction</th>\n",
       "      <th>Job Satisfaction</th>\n",
       "      <th>Sleep Duration</th>\n",
       "      <th>Dietary Habits</th>\n",
       "      <th>Degree</th>\n",
       "      <th>Have you ever had suicidal thoughts ?</th>\n",
       "      <th>Work/Study Hours</th>\n",
       "      <th>Financial Stress</th>\n",
       "      <th>Family History of Mental Illness</th>\n",
       "      <th>Depression</th>\n",
       "    </tr>\n",
       "  </thead>\n",
       "  <tbody>\n",
       "    <tr>\n",
       "      <th>0</th>\n",
       "      <td>0</td>\n",
       "      <td>33.0</td>\n",
       "      <td>Visakhapatnam</td>\n",
       "      <td>Student</td>\n",
       "      <td>5.0</td>\n",
       "      <td>0.0</td>\n",
       "      <td>8.97</td>\n",
       "      <td>2.0</td>\n",
       "      <td>0.0</td>\n",
       "      <td>5-6 hours</td>\n",
       "      <td>Healthy</td>\n",
       "      <td>B.Pharm</td>\n",
       "      <td>Yes</td>\n",
       "      <td>3.0</td>\n",
       "      <td>1.0</td>\n",
       "      <td>No</td>\n",
       "      <td>1</td>\n",
       "    </tr>\n",
       "    <tr>\n",
       "      <th>1</th>\n",
       "      <td>1</td>\n",
       "      <td>24.0</td>\n",
       "      <td>Bangalore</td>\n",
       "      <td>Student</td>\n",
       "      <td>2.0</td>\n",
       "      <td>0.0</td>\n",
       "      <td>5.90</td>\n",
       "      <td>5.0</td>\n",
       "      <td>0.0</td>\n",
       "      <td>5-6 hours</td>\n",
       "      <td>Moderate</td>\n",
       "      <td>BSc</td>\n",
       "      <td>No</td>\n",
       "      <td>3.0</td>\n",
       "      <td>2.0</td>\n",
       "      <td>Yes</td>\n",
       "      <td>0</td>\n",
       "    </tr>\n",
       "    <tr>\n",
       "      <th>2</th>\n",
       "      <td>0</td>\n",
       "      <td>31.0</td>\n",
       "      <td>Srinagar</td>\n",
       "      <td>Student</td>\n",
       "      <td>3.0</td>\n",
       "      <td>0.0</td>\n",
       "      <td>7.03</td>\n",
       "      <td>5.0</td>\n",
       "      <td>0.0</td>\n",
       "      <td>Less than 5 hours</td>\n",
       "      <td>Healthy</td>\n",
       "      <td>BA</td>\n",
       "      <td>No</td>\n",
       "      <td>9.0</td>\n",
       "      <td>1.0</td>\n",
       "      <td>Yes</td>\n",
       "      <td>0</td>\n",
       "    </tr>\n",
       "    <tr>\n",
       "      <th>3</th>\n",
       "      <td>1</td>\n",
       "      <td>28.0</td>\n",
       "      <td>Varanasi</td>\n",
       "      <td>Student</td>\n",
       "      <td>3.0</td>\n",
       "      <td>0.0</td>\n",
       "      <td>5.59</td>\n",
       "      <td>2.0</td>\n",
       "      <td>0.0</td>\n",
       "      <td>7-8 hours</td>\n",
       "      <td>Moderate</td>\n",
       "      <td>BCA</td>\n",
       "      <td>Yes</td>\n",
       "      <td>4.0</td>\n",
       "      <td>5.0</td>\n",
       "      <td>Yes</td>\n",
       "      <td>1</td>\n",
       "    </tr>\n",
       "    <tr>\n",
       "      <th>4</th>\n",
       "      <td>1</td>\n",
       "      <td>25.0</td>\n",
       "      <td>Jaipur</td>\n",
       "      <td>Student</td>\n",
       "      <td>4.0</td>\n",
       "      <td>0.0</td>\n",
       "      <td>8.13</td>\n",
       "      <td>3.0</td>\n",
       "      <td>0.0</td>\n",
       "      <td>5-6 hours</td>\n",
       "      <td>Moderate</td>\n",
       "      <td>M.Tech</td>\n",
       "      <td>Yes</td>\n",
       "      <td>1.0</td>\n",
       "      <td>1.0</td>\n",
       "      <td>No</td>\n",
       "      <td>0</td>\n",
       "    </tr>\n",
       "  </tbody>\n",
       "</table>\n",
       "</div>"
      ],
      "text/plain": [
       "  Gender   Age           City Profession  Academic Pressure  Work Pressure  \\\n",
       "0      0  33.0  Visakhapatnam    Student                5.0            0.0   \n",
       "1      1  24.0      Bangalore    Student                2.0            0.0   \n",
       "2      0  31.0       Srinagar    Student                3.0            0.0   \n",
       "3      1  28.0       Varanasi    Student                3.0            0.0   \n",
       "4      1  25.0         Jaipur    Student                4.0            0.0   \n",
       "\n",
       "   CGPA  Study Satisfaction  Job Satisfaction     Sleep Duration  \\\n",
       "0  8.97                 2.0               0.0          5-6 hours   \n",
       "1  5.90                 5.0               0.0          5-6 hours   \n",
       "2  7.03                 5.0               0.0  Less than 5 hours   \n",
       "3  5.59                 2.0               0.0          7-8 hours   \n",
       "4  8.13                 3.0               0.0          5-6 hours   \n",
       "\n",
       "  Dietary Habits   Degree Have you ever had suicidal thoughts ?  \\\n",
       "0        Healthy  B.Pharm                                   Yes   \n",
       "1       Moderate      BSc                                    No   \n",
       "2        Healthy       BA                                    No   \n",
       "3       Moderate      BCA                                   Yes   \n",
       "4       Moderate   M.Tech                                   Yes   \n",
       "\n",
       "   Work/Study Hours  Financial Stress Family History of Mental Illness  \\\n",
       "0               3.0               1.0                               No   \n",
       "1               3.0               2.0                              Yes   \n",
       "2               9.0               1.0                              Yes   \n",
       "3               4.0               5.0                              Yes   \n",
       "4               1.0               1.0                               No   \n",
       "\n",
       "   Depression  \n",
       "0           1  \n",
       "1           0  \n",
       "2           0  \n",
       "3           1  \n",
       "4           0  "
      ]
     },
     "execution_count": 72,
     "metadata": {},
     "output_type": "execute_result"
    }
   ],
   "source": [
    "##Removing id \n",
    "if 'id' in main.columns:\n",
    "    main = main.drop(['id'], axis=1)\n",
    "else:\n",
    "    print(\"'id' column not found\")\n",
    "## Changing catarorical to numerical(Gender)\n",
    "main.loc[main['Gender'] == 'Male', 'Gender'] = 0\n",
    "main.loc[main['Gender'] == 'Female', 'Gender'] = 1\n",
    "main.head()"
   ]
  },
  {
   "cell_type": "code",
   "execution_count": 73,
   "id": "616400a4-79e1-40d9-8cda-b9a6ed7a3e55",
   "metadata": {},
   "outputs": [
    {
     "data": {
      "text/plain": [
       "City\n",
       "Kalyan                1570\n",
       "Srinagar              1372\n",
       "Hyderabad             1340\n",
       "Vasai-Virar           1290\n",
       "Lucknow               1155\n",
       "Thane                 1139\n",
       "Ludhiana              1111\n",
       "Agra                  1094\n",
       "Surat                 1078\n",
       "Kolkata               1066\n",
       "Jaipur                1036\n",
       "Patna                 1007\n",
       "Visakhapatnam          969\n",
       "Pune                   968\n",
       "Ahmedabad              951\n",
       "Bhopal                 934\n",
       "Chennai                885\n",
       "Meerut                 825\n",
       "Rajkot                 816\n",
       "Delhi                  768\n",
       "Bangalore              767\n",
       "Ghaziabad              745\n",
       "Mumbai                 699\n",
       "Vadodara               694\n",
       "Varanasi               685\n",
       "Nagpur                 651\n",
       "Indore                 643\n",
       "Kanpur                 609\n",
       "Nashik                 547\n",
       "Faridabad              461\n",
       "Saanvi                   2\n",
       "Bhavna                   2\n",
       "City                     2\n",
       "Harsha                   2\n",
       "Less Delhi               1\n",
       "M.Tech                   1\n",
       "3.0                      1\n",
       "Less than 5 Kalyan       1\n",
       "Mira                     1\n",
       "Vaanya                   1\n",
       "Gaurav                   1\n",
       "Harsh                    1\n",
       "Reyansh                  1\n",
       "Kibara                   1\n",
       "Rashi                    1\n",
       "ME                       1\n",
       "M.Com                    1\n",
       "Nalyan                   1\n",
       "Mihir                    1\n",
       "Nalini                   1\n",
       "Nandini                  1\n",
       "Khaziabad                1\n",
       "Name: count, dtype: int64"
      ]
     },
     "execution_count": 73,
     "metadata": {},
     "output_type": "execute_result"
    }
   ],
   "source": [
    "main['City'].value_counts()"
   ]
  },
  {
   "cell_type": "code",
   "execution_count": 74,
   "id": "bf6cefe2-5645-4b24-95ef-ac0e0dda8d11",
   "metadata": {},
   "outputs": [
    {
     "data": {
      "text/plain": [
       "City\n",
       "Kalyan           1570\n",
       "Srinagar         1372\n",
       "Hyderabad        1340\n",
       "Vasai-Virar      1290\n",
       "Lucknow          1155\n",
       "Thane            1139\n",
       "Ludhiana         1111\n",
       "Agra             1094\n",
       "Surat            1078\n",
       "Kolkata          1066\n",
       "Jaipur           1036\n",
       "Patna            1007\n",
       "Visakhapatnam     969\n",
       "Pune              968\n",
       "Ahmedabad         951\n",
       "Bhopal            934\n",
       "Chennai           885\n",
       "Meerut            825\n",
       "Rajkot            816\n",
       "Delhi             768\n",
       "Bangalore         767\n",
       "Ghaziabad         745\n",
       "Mumbai            699\n",
       "Vadodara          694\n",
       "Varanasi          685\n",
       "Nagpur            651\n",
       "Indore            643\n",
       "Kanpur            609\n",
       "Nashik            547\n",
       "Faridabad         461\n",
       "Name: count, dtype: int64"
      ]
     },
     "execution_count": 74,
     "metadata": {},
     "output_type": "execute_result"
    }
   ],
   "source": [
    "cities_to_remove = main['City'].value_counts()[main['City'].value_counts() < 450]\n",
    "main = main[~main['City'].isin(cities_to_remove.index)]\n",
    "main['City'].value_counts()"
   ]
  },
  {
   "cell_type": "code",
   "execution_count": 75,
   "id": "2ef2f463-661e-4099-b51a-5bd096d85302",
   "metadata": {},
   "outputs": [
    {
     "data": {
      "text/plain": [
       "Profession\n",
       "Student                   27844\n",
       "Architect                     8\n",
       "Teacher                       6\n",
       "Digital Marketer              3\n",
       "Chef                          2\n",
       "Content Writer                2\n",
       "Pharmacist                    2\n",
       "Doctor                        2\n",
       "UX/UI Designer                1\n",
       "Civil Engineer                1\n",
       "Manager                       1\n",
       "Educational Consultant        1\n",
       "Lawyer                        1\n",
       "Entrepreneur                  1\n",
       "Name: count, dtype: int64"
      ]
     },
     "execution_count": 75,
     "metadata": {},
     "output_type": "execute_result"
    }
   ],
   "source": [
    "main['Profession'].value_counts()"
   ]
  },
  {
   "cell_type": "code",
   "execution_count": 76,
   "id": "fdd7bc30-7441-4d56-a05d-2236e4930e20",
   "metadata": {},
   "outputs": [
    {
     "data": {
      "text/plain": [
       "Profession\n",
       "Student    27844\n",
       "Name: count, dtype: int64"
      ]
     },
     "execution_count": 76,
     "metadata": {},
     "output_type": "execute_result"
    }
   ],
   "source": [
    "main = main.loc[main['Profession']=='Student']\n",
    "main['Profession'].value_counts()\n"
   ]
  },
  {
   "cell_type": "code",
   "execution_count": 77,
   "id": "66c0d931-655a-40b8-9da7-d216caa6ee12",
   "metadata": {},
   "outputs": [],
   "source": [
    "main = main.drop(['Profession'], axis=1)"
   ]
  },
  {
   "cell_type": "code",
   "execution_count": 78,
   "id": "9036aaf3-2018-4a3d-8fa9-d2b4fcd4708c",
   "metadata": {},
   "outputs": [
    {
     "data": {
      "text/plain": [
       "Work Pressure\n",
       "0.0    27841\n",
       "5.0        2\n",
       "2.0        1\n",
       "Name: count, dtype: int64"
      ]
     },
     "execution_count": 78,
     "metadata": {},
     "output_type": "execute_result"
    }
   ],
   "source": [
    "main['Work Pressure'].value_counts()"
   ]
  },
  {
   "cell_type": "code",
   "execution_count": 79,
   "id": "d7d0641b-075a-428d-9b82-a37cc8102b2e",
   "metadata": {},
   "outputs": [
    {
     "data": {
      "text/plain": [
       "Work Pressure\n",
       "0.0    27841\n",
       "Name: count, dtype: int64"
      ]
     },
     "execution_count": 79,
     "metadata": {},
     "output_type": "execute_result"
    }
   ],
   "source": [
    "main = main.loc[main['Work Pressure']==0.0]\n",
    "main['Work Pressure'].value_counts()\n"
   ]
  },
  {
   "cell_type": "code",
   "execution_count": 80,
   "id": "75133a83-2765-40c5-9e27-5aafe89f4225",
   "metadata": {},
   "outputs": [
    {
     "data": {
      "text/html": [
       "<div>\n",
       "<style scoped>\n",
       "    .dataframe tbody tr th:only-of-type {\n",
       "        vertical-align: middle;\n",
       "    }\n",
       "\n",
       "    .dataframe tbody tr th {\n",
       "        vertical-align: top;\n",
       "    }\n",
       "\n",
       "    .dataframe thead th {\n",
       "        text-align: right;\n",
       "    }\n",
       "</style>\n",
       "<table border=\"1\" class=\"dataframe\">\n",
       "  <thead>\n",
       "    <tr style=\"text-align: right;\">\n",
       "      <th></th>\n",
       "      <th>Gender</th>\n",
       "      <th>Age</th>\n",
       "      <th>City</th>\n",
       "      <th>Academic Pressure</th>\n",
       "      <th>Work Pressure</th>\n",
       "      <th>CGPA</th>\n",
       "      <th>Study Satisfaction</th>\n",
       "      <th>Job Satisfaction</th>\n",
       "      <th>Sleep Duration</th>\n",
       "      <th>Dietary Habits</th>\n",
       "      <th>Degree</th>\n",
       "      <th>Have you ever had suicidal thoughts ?</th>\n",
       "      <th>Work/Study Hours</th>\n",
       "      <th>Financial Stress</th>\n",
       "      <th>Family History of Mental Illness</th>\n",
       "      <th>Depression</th>\n",
       "    </tr>\n",
       "  </thead>\n",
       "  <tbody>\n",
       "    <tr>\n",
       "      <th>0</th>\n",
       "      <td>0</td>\n",
       "      <td>33.0</td>\n",
       "      <td>Visakhapatnam</td>\n",
       "      <td>5.0</td>\n",
       "      <td>0.0</td>\n",
       "      <td>8.97</td>\n",
       "      <td>2.0</td>\n",
       "      <td>0.0</td>\n",
       "      <td>5-6 hours</td>\n",
       "      <td>Healthy</td>\n",
       "      <td>B.Pharm</td>\n",
       "      <td>Yes</td>\n",
       "      <td>3.0</td>\n",
       "      <td>1.0</td>\n",
       "      <td>No</td>\n",
       "      <td>1</td>\n",
       "    </tr>\n",
       "    <tr>\n",
       "      <th>1</th>\n",
       "      <td>1</td>\n",
       "      <td>24.0</td>\n",
       "      <td>Bangalore</td>\n",
       "      <td>2.0</td>\n",
       "      <td>0.0</td>\n",
       "      <td>5.90</td>\n",
       "      <td>5.0</td>\n",
       "      <td>0.0</td>\n",
       "      <td>5-6 hours</td>\n",
       "      <td>Moderate</td>\n",
       "      <td>BSc</td>\n",
       "      <td>No</td>\n",
       "      <td>3.0</td>\n",
       "      <td>2.0</td>\n",
       "      <td>Yes</td>\n",
       "      <td>0</td>\n",
       "    </tr>\n",
       "    <tr>\n",
       "      <th>2</th>\n",
       "      <td>0</td>\n",
       "      <td>31.0</td>\n",
       "      <td>Srinagar</td>\n",
       "      <td>3.0</td>\n",
       "      <td>0.0</td>\n",
       "      <td>7.03</td>\n",
       "      <td>5.0</td>\n",
       "      <td>0.0</td>\n",
       "      <td>Less than 5 hours</td>\n",
       "      <td>Healthy</td>\n",
       "      <td>BA</td>\n",
       "      <td>No</td>\n",
       "      <td>9.0</td>\n",
       "      <td>1.0</td>\n",
       "      <td>Yes</td>\n",
       "      <td>0</td>\n",
       "    </tr>\n",
       "  </tbody>\n",
       "</table>\n",
       "</div>"
      ],
      "text/plain": [
       "  Gender   Age           City  Academic Pressure  Work Pressure  CGPA  \\\n",
       "0      0  33.0  Visakhapatnam                5.0            0.0  8.97   \n",
       "1      1  24.0      Bangalore                2.0            0.0  5.90   \n",
       "2      0  31.0       Srinagar                3.0            0.0  7.03   \n",
       "\n",
       "   Study Satisfaction  Job Satisfaction     Sleep Duration Dietary Habits  \\\n",
       "0                 2.0               0.0          5-6 hours        Healthy   \n",
       "1                 5.0               0.0          5-6 hours       Moderate   \n",
       "2                 5.0               0.0  Less than 5 hours        Healthy   \n",
       "\n",
       "    Degree Have you ever had suicidal thoughts ?  Work/Study Hours  \\\n",
       "0  B.Pharm                                   Yes               3.0   \n",
       "1      BSc                                    No               3.0   \n",
       "2       BA                                    No               9.0   \n",
       "\n",
       "   Financial Stress Family History of Mental Illness  Depression  \n",
       "0               1.0                               No           1  \n",
       "1               2.0                              Yes           0  \n",
       "2               1.0                              Yes           0  "
      ]
     },
     "execution_count": 80,
     "metadata": {},
     "output_type": "execute_result"
    }
   ],
   "source": [
    "main.head(3)"
   ]
  },
  {
   "cell_type": "code",
   "execution_count": 81,
   "id": "1a7f3b68-df75-43bc-9dbe-2baab249c3f3",
   "metadata": {},
   "outputs": [
    {
     "data": {
      "text/html": [
       "<div>\n",
       "<style scoped>\n",
       "    .dataframe tbody tr th:only-of-type {\n",
       "        vertical-align: middle;\n",
       "    }\n",
       "\n",
       "    .dataframe tbody tr th {\n",
       "        vertical-align: top;\n",
       "    }\n",
       "\n",
       "    .dataframe thead th {\n",
       "        text-align: right;\n",
       "    }\n",
       "</style>\n",
       "<table border=\"1\" class=\"dataframe\">\n",
       "  <thead>\n",
       "    <tr style=\"text-align: right;\">\n",
       "      <th></th>\n",
       "      <th>Gender</th>\n",
       "      <th>Age</th>\n",
       "      <th>City</th>\n",
       "      <th>Academic Pressure</th>\n",
       "      <th>CGPA</th>\n",
       "      <th>Study Satisfaction</th>\n",
       "      <th>Job Satisfaction</th>\n",
       "      <th>Sleep Duration</th>\n",
       "      <th>Dietary Habits</th>\n",
       "      <th>Degree</th>\n",
       "      <th>Have you ever had suicidal thoughts ?</th>\n",
       "      <th>Work/Study Hours</th>\n",
       "      <th>Financial Stress</th>\n",
       "      <th>Family History of Mental Illness</th>\n",
       "      <th>Depression</th>\n",
       "    </tr>\n",
       "  </thead>\n",
       "  <tbody>\n",
       "    <tr>\n",
       "      <th>0</th>\n",
       "      <td>0</td>\n",
       "      <td>33.0</td>\n",
       "      <td>Visakhapatnam</td>\n",
       "      <td>5.0</td>\n",
       "      <td>8.97</td>\n",
       "      <td>2.0</td>\n",
       "      <td>0.0</td>\n",
       "      <td>5-6 hours</td>\n",
       "      <td>Healthy</td>\n",
       "      <td>B.Pharm</td>\n",
       "      <td>Yes</td>\n",
       "      <td>3.0</td>\n",
       "      <td>1.0</td>\n",
       "      <td>No</td>\n",
       "      <td>1</td>\n",
       "    </tr>\n",
       "    <tr>\n",
       "      <th>1</th>\n",
       "      <td>1</td>\n",
       "      <td>24.0</td>\n",
       "      <td>Bangalore</td>\n",
       "      <td>2.0</td>\n",
       "      <td>5.90</td>\n",
       "      <td>5.0</td>\n",
       "      <td>0.0</td>\n",
       "      <td>5-6 hours</td>\n",
       "      <td>Moderate</td>\n",
       "      <td>BSc</td>\n",
       "      <td>No</td>\n",
       "      <td>3.0</td>\n",
       "      <td>2.0</td>\n",
       "      <td>Yes</td>\n",
       "      <td>0</td>\n",
       "    </tr>\n",
       "    <tr>\n",
       "      <th>2</th>\n",
       "      <td>0</td>\n",
       "      <td>31.0</td>\n",
       "      <td>Srinagar</td>\n",
       "      <td>3.0</td>\n",
       "      <td>7.03</td>\n",
       "      <td>5.0</td>\n",
       "      <td>0.0</td>\n",
       "      <td>Less than 5 hours</td>\n",
       "      <td>Healthy</td>\n",
       "      <td>BA</td>\n",
       "      <td>No</td>\n",
       "      <td>9.0</td>\n",
       "      <td>1.0</td>\n",
       "      <td>Yes</td>\n",
       "      <td>0</td>\n",
       "    </tr>\n",
       "  </tbody>\n",
       "</table>\n",
       "</div>"
      ],
      "text/plain": [
       "  Gender   Age           City  Academic Pressure  CGPA  Study Satisfaction  \\\n",
       "0      0  33.0  Visakhapatnam                5.0  8.97                 2.0   \n",
       "1      1  24.0      Bangalore                2.0  5.90                 5.0   \n",
       "2      0  31.0       Srinagar                3.0  7.03                 5.0   \n",
       "\n",
       "   Job Satisfaction     Sleep Duration Dietary Habits   Degree  \\\n",
       "0               0.0          5-6 hours        Healthy  B.Pharm   \n",
       "1               0.0          5-6 hours       Moderate      BSc   \n",
       "2               0.0  Less than 5 hours        Healthy       BA   \n",
       "\n",
       "  Have you ever had suicidal thoughts ?  Work/Study Hours  Financial Stress  \\\n",
       "0                                   Yes               3.0               1.0   \n",
       "1                                    No               3.0               2.0   \n",
       "2                                    No               9.0               1.0   \n",
       "\n",
       "  Family History of Mental Illness  Depression  \n",
       "0                               No           1  \n",
       "1                              Yes           0  \n",
       "2                              Yes           0  "
      ]
     },
     "execution_count": 81,
     "metadata": {},
     "output_type": "execute_result"
    }
   ],
   "source": [
    "main = main.drop(['Work Pressure'], axis=1)\n",
    "main.head(3)"
   ]
  },
  {
   "cell_type": "code",
   "execution_count": 82,
   "id": "1f693346-dd09-41b2-a84a-e8d12f91875f",
   "metadata": {},
   "outputs": [
    {
     "data": {
      "text/plain": [
       "Age\n",
       "24.0    2255\n",
       "20.0    2235\n",
       "28.0    2128\n",
       "29.0    1940\n",
       "33.0    1892\n",
       "25.0    1780\n",
       "21.0    1717\n",
       "23.0    1640\n",
       "18.0    1585\n",
       "19.0    1560\n",
       "34.0    1466\n",
       "27.0    1459\n",
       "31.0    1422\n",
       "32.0    1258\n",
       "22.0    1159\n",
       "26.0    1153\n",
       "30.0    1144\n",
       "35.0      10\n",
       "38.0       7\n",
       "36.0       7\n",
       "42.0       4\n",
       "39.0       3\n",
       "48.0       3\n",
       "46.0       2\n",
       "43.0       2\n",
       "37.0       2\n",
       "44.0       1\n",
       "51.0       1\n",
       "49.0       1\n",
       "58.0       1\n",
       "54.0       1\n",
       "59.0       1\n",
       "56.0       1\n",
       "41.0       1\n",
       "Name: count, dtype: int64"
      ]
     },
     "execution_count": 82,
     "metadata": {},
     "output_type": "execute_result"
    }
   ],
   "source": [
    "main['Age'].value_counts()"
   ]
  },
  {
   "cell_type": "code",
   "execution_count": 83,
   "id": "f823124f-ab3c-4808-afc1-972884d5bb15",
   "metadata": {},
   "outputs": [],
   "source": [
    "main = main.loc[main['Age'] <= 28]"
   ]
  },
  {
   "cell_type": "code",
   "execution_count": 84,
   "id": "90aa7e6d-f665-4ca3-befb-b2d56ae395fb",
   "metadata": {},
   "outputs": [
    {
     "data": {
      "text/plain": [
       "Age\n",
       "24.0    2255\n",
       "20.0    2235\n",
       "28.0    2128\n",
       "25.0    1780\n",
       "21.0    1717\n",
       "23.0    1640\n",
       "18.0    1585\n",
       "19.0    1560\n",
       "27.0    1459\n",
       "22.0    1159\n",
       "26.0    1153\n",
       "Name: count, dtype: int64"
      ]
     },
     "execution_count": 84,
     "metadata": {},
     "output_type": "execute_result"
    }
   ],
   "source": [
    "main['Age'].value_counts()"
   ]
  },
  {
   "cell_type": "code",
   "execution_count": 85,
   "id": "257198fe-cadf-47db-9dcd-a7e602fabaf1",
   "metadata": {},
   "outputs": [
    {
     "data": {
      "text/plain": [
       "Job Satisfaction\n",
       "0.0    18667\n",
       "2.0        3\n",
       "1.0        1\n",
       "Name: count, dtype: int64"
      ]
     },
     "execution_count": 85,
     "metadata": {},
     "output_type": "execute_result"
    }
   ],
   "source": [
    "main['Job Satisfaction'].value_counts()"
   ]
  },
  {
   "cell_type": "code",
   "execution_count": 86,
   "id": "a51ea2a0-d536-40b8-bd53-edda5c7acbb4",
   "metadata": {},
   "outputs": [],
   "source": [
    "main = main.drop(['Job Satisfaction'],axis = 1)"
   ]
  },
  {
   "cell_type": "code",
   "execution_count": 87,
   "id": "b689699e-cd4c-4a93-a6d5-b990b4aba314",
   "metadata": {},
   "outputs": [
    {
     "data": {
      "text/html": [
       "<div>\n",
       "<style scoped>\n",
       "    .dataframe tbody tr th:only-of-type {\n",
       "        vertical-align: middle;\n",
       "    }\n",
       "\n",
       "    .dataframe tbody tr th {\n",
       "        vertical-align: top;\n",
       "    }\n",
       "\n",
       "    .dataframe thead th {\n",
       "        text-align: right;\n",
       "    }\n",
       "</style>\n",
       "<table border=\"1\" class=\"dataframe\">\n",
       "  <thead>\n",
       "    <tr style=\"text-align: right;\">\n",
       "      <th></th>\n",
       "      <th>Gender</th>\n",
       "      <th>Age</th>\n",
       "      <th>City</th>\n",
       "      <th>Academic Pressure</th>\n",
       "      <th>CGPA</th>\n",
       "      <th>Study Satisfaction</th>\n",
       "      <th>Sleep Duration</th>\n",
       "      <th>Dietary Habits</th>\n",
       "      <th>Degree</th>\n",
       "      <th>Have you ever had suicidal thoughts ?</th>\n",
       "      <th>Work/Study Hours</th>\n",
       "      <th>Financial Stress</th>\n",
       "      <th>Family History of Mental Illness</th>\n",
       "      <th>Depression</th>\n",
       "    </tr>\n",
       "  </thead>\n",
       "  <tbody>\n",
       "    <tr>\n",
       "      <th>1</th>\n",
       "      <td>1</td>\n",
       "      <td>24.0</td>\n",
       "      <td>Bangalore</td>\n",
       "      <td>2.0</td>\n",
       "      <td>5.90</td>\n",
       "      <td>5.0</td>\n",
       "      <td>5-6 hours</td>\n",
       "      <td>Moderate</td>\n",
       "      <td>BSc</td>\n",
       "      <td>No</td>\n",
       "      <td>3.0</td>\n",
       "      <td>2.0</td>\n",
       "      <td>Yes</td>\n",
       "      <td>0</td>\n",
       "    </tr>\n",
       "    <tr>\n",
       "      <th>3</th>\n",
       "      <td>1</td>\n",
       "      <td>28.0</td>\n",
       "      <td>Varanasi</td>\n",
       "      <td>3.0</td>\n",
       "      <td>5.59</td>\n",
       "      <td>2.0</td>\n",
       "      <td>7-8 hours</td>\n",
       "      <td>Moderate</td>\n",
       "      <td>BCA</td>\n",
       "      <td>Yes</td>\n",
       "      <td>4.0</td>\n",
       "      <td>5.0</td>\n",
       "      <td>Yes</td>\n",
       "      <td>1</td>\n",
       "    </tr>\n",
       "    <tr>\n",
       "      <th>4</th>\n",
       "      <td>1</td>\n",
       "      <td>25.0</td>\n",
       "      <td>Jaipur</td>\n",
       "      <td>4.0</td>\n",
       "      <td>8.13</td>\n",
       "      <td>3.0</td>\n",
       "      <td>5-6 hours</td>\n",
       "      <td>Moderate</td>\n",
       "      <td>M.Tech</td>\n",
       "      <td>Yes</td>\n",
       "      <td>1.0</td>\n",
       "      <td>1.0</td>\n",
       "      <td>No</td>\n",
       "      <td>0</td>\n",
       "    </tr>\n",
       "  </tbody>\n",
       "</table>\n",
       "</div>"
      ],
      "text/plain": [
       "  Gender   Age       City  Academic Pressure  CGPA  Study Satisfaction  \\\n",
       "1      1  24.0  Bangalore                2.0  5.90                 5.0   \n",
       "3      1  28.0   Varanasi                3.0  5.59                 2.0   \n",
       "4      1  25.0     Jaipur                4.0  8.13                 3.0   \n",
       "\n",
       "  Sleep Duration Dietary Habits  Degree Have you ever had suicidal thoughts ?  \\\n",
       "1      5-6 hours       Moderate     BSc                                    No   \n",
       "3      7-8 hours       Moderate     BCA                                   Yes   \n",
       "4      5-6 hours       Moderate  M.Tech                                   Yes   \n",
       "\n",
       "   Work/Study Hours  Financial Stress Family History of Mental Illness  \\\n",
       "1               3.0               2.0                              Yes   \n",
       "3               4.0               5.0                              Yes   \n",
       "4               1.0               1.0                               No   \n",
       "\n",
       "   Depression  \n",
       "1           0  \n",
       "3           1  \n",
       "4           0  "
      ]
     },
     "execution_count": 87,
     "metadata": {},
     "output_type": "execute_result"
    }
   ],
   "source": [
    "main.head(3)"
   ]
  },
  {
   "cell_type": "code",
   "execution_count": 88,
   "id": "222c626a-024b-47e4-907f-62030900c29b",
   "metadata": {},
   "outputs": [
    {
     "data": {
      "text/plain": [
       "Sleep Duration\n",
       "Less than 5 hours    5616\n",
       "7-8 hours            4928\n",
       "5-6 hours            4068\n",
       "More than 8 hours    4049\n",
       "Name: count, dtype: int64"
      ]
     },
     "execution_count": 88,
     "metadata": {},
     "output_type": "execute_result"
    }
   ],
   "source": [
    "main['Sleep Duration'].value_counts()\n",
    "main = main.loc[main['Sleep Duration'] != 'Others']\n",
    "main['Sleep Duration'].value_counts()"
   ]
  },
  {
   "cell_type": "code",
   "execution_count": 89,
   "id": "9249d106-be34-4b9f-86f8-bf1a9d1d8f4b",
   "metadata": {},
   "outputs": [
    {
     "data": {
      "text/plain": [
       "Sleep Duration\n",
       "0    5616\n",
       "2    4928\n",
       "1    4068\n",
       "3    4049\n",
       "Name: count, dtype: int64"
      ]
     },
     "execution_count": 89,
     "metadata": {},
     "output_type": "execute_result"
    }
   ],
   "source": [
    "main.loc[main['Sleep Duration'] == 'Less than 5 hours', 'Sleep Duration'] = 0\n",
    "main.loc[main['Sleep Duration'] == '5-6 hours', 'Sleep Duration'] = 1\n",
    "main.loc[main['Sleep Duration'] == '7-8 hours', 'Sleep Duration'] = 2\n",
    "main.loc[main['Sleep Duration'] == 'More than 8 hours', 'Sleep Duration'] = 3\n",
    "main['Sleep Duration'].value_counts()"
   ]
  },
  {
   "cell_type": "code",
   "execution_count": 90,
   "id": "f0e104f5-496c-4098-9795-8a42545d3c51",
   "metadata": {},
   "outputs": [
    {
     "data": {
      "text/plain": [
       "Dietary Habits\n",
       "Unhealthy    7288\n",
       "Moderate     6403\n",
       "Healthy      4962\n",
       "Name: count, dtype: int64"
      ]
     },
     "execution_count": 90,
     "metadata": {},
     "output_type": "execute_result"
    }
   ],
   "source": [
    "main['Dietary Habits'].value_counts()\n",
    "main = main.loc[main['Dietary Habits'] != 'Others']\n",
    "main['Dietary Habits'].value_counts()"
   ]
  },
  {
   "cell_type": "code",
   "execution_count": 91,
   "id": "5e2c3063-58f4-4c94-a21d-82395aee7408",
   "metadata": {},
   "outputs": [
    {
     "data": {
      "text/plain": [
       "Dietary Habits\n",
       "1    7288\n",
       "2    6403\n",
       "0    4962\n",
       "Name: count, dtype: int64"
      ]
     },
     "execution_count": 91,
     "metadata": {},
     "output_type": "execute_result"
    }
   ],
   "source": [
    "main.loc[main['Dietary Habits'] == 'Healthy', 'Dietary Habits'] = 0\n",
    "main.loc[main['Dietary Habits'] == 'Unhealthy', 'Dietary Habits'] = 1\n",
    "main.loc[main['Dietary Habits'] == 'Moderate', 'Dietary Habits'] = 2\n",
    "main['Dietary Habits'].value_counts()"
   ]
  },
  {
   "cell_type": "code",
   "execution_count": 92,
   "id": "d8be1cfe-77aa-4393-88a6-22494b9ff895",
   "metadata": {},
   "outputs": [
    {
     "data": {
      "text/plain": [
       "array(['BSc', 'BCA', 'M.Tech', 'B.Ed', 'Class 12', 'M.Ed', 'MSc', 'BHM',\n",
       "       'M.Pharm', 'MCA', 'MA', 'B.Pharm', 'B.Com', 'MD', 'BE', 'BA',\n",
       "       'MBBS', 'B.Arch', 'LLM', 'B.Tech', 'BBA', 'M.Com', 'MBA', 'PhD',\n",
       "       'LLB', 'Others', 'MHM', 'ME'], dtype=object)"
      ]
     },
     "execution_count": 92,
     "metadata": {},
     "output_type": "execute_result"
    }
   ],
   "source": [
    "main['Degree'].unique()"
   ]
  },
  {
   "cell_type": "code",
   "execution_count": 93,
   "id": "08bd6a3f-a0a5-4425-a808-33d850b3cc36",
   "metadata": {},
   "outputs": [
    {
     "data": {
      "text/plain": [
       "New_Degree\n",
       "Graduated           8199\n",
       "Higher Secondary    5778\n",
       "Post Graduated      3723\n",
       "Name: count, dtype: int64"
      ]
     },
     "execution_count": 93,
     "metadata": {},
     "output_type": "execute_result"
    }
   ],
   "source": [
    "## CREATING NEW DEGREE COLUMN WITH ONLY GRADUATED, POST GRADUATED AND HIGHER SECONDARY\n",
    "main.loc[main['Degree'].str.contains(r'BSc|BCA|B.Ed|BHM|B.Pharm|B.Com|BE|BA|B.Arch|B.Tech|BBA|LLB', regex=True), 'New_Degree'] = 'Graduated'\n",
    "main.loc[main['Degree'].str.contains(r'MSc|MCA|M.Ed|M.Pharm|M.Com|ME|MA|M.Arch|M.Tech|MBA|LLM', regex=True), 'New_Degree'] = 'Post Graduated'\n",
    "main.loc[main['Degree'] == 'Class 12', 'New_Degree'] = 'Higher Secondary'\n",
    "main = main.loc[main['Degree'] != 'Others']\n",
    "main['New_Degree'].value_counts()"
   ]
  },
  {
   "cell_type": "code",
   "execution_count": 94,
   "id": "9eec0620-cd73-42c6-986d-e1caae871d38",
   "metadata": {},
   "outputs": [
    {
     "data": {
      "text/plain": [
       "New_Degree\n",
       "0    8199\n",
       "2    5778\n",
       "1    3723\n",
       "Name: count, dtype: int64"
      ]
     },
     "execution_count": 94,
     "metadata": {},
     "output_type": "execute_result"
    }
   ],
   "source": [
    "main.loc[main['New_Degree'] == 'Graduated', 'New_Degree'] = 0\n",
    "main.loc[main['New_Degree'] == 'Post Graduated', 'New_Degree'] = 1\n",
    "main.loc[main['New_Degree'] == 'Higher Secondary', 'New_Degree'] = 2\n",
    "main['New_Degree'].value_counts()"
   ]
  },
  {
   "cell_type": "code",
   "execution_count": 95,
   "id": "a069115b-652d-47ce-8777-2979f1bd97bd",
   "metadata": {},
   "outputs": [
    {
     "data": {
      "text/plain": [
       "Have you ever had suicidal thoughts ?\n",
       "Yes    12468\n",
       "No      6163\n",
       "Name: count, dtype: int64"
      ]
     },
     "execution_count": 95,
     "metadata": {},
     "output_type": "execute_result"
    }
   ],
   "source": [
    "main['Have you ever had suicidal thoughts ?'].value_counts()"
   ]
  },
  {
   "cell_type": "code",
   "execution_count": 96,
   "id": "b8922405-d3f2-4c4f-a02c-0cf4c3e73758",
   "metadata": {},
   "outputs": [
    {
     "data": {
      "text/plain": [
       "Have you ever had suicidal thoughts ?\n",
       "1    12468\n",
       "0     6163\n",
       "Name: count, dtype: int64"
      ]
     },
     "execution_count": 96,
     "metadata": {},
     "output_type": "execute_result"
    }
   ],
   "source": [
    "main.loc[main['Have you ever had suicidal thoughts ?'] == 'Yes', 'Have you ever had suicidal thoughts ?'] = 1\n",
    "main.loc[main['Have you ever had suicidal thoughts ?'] == 'No', 'Have you ever had suicidal thoughts ?'] = 0\n",
    "main['Have you ever had suicidal thoughts ?'].value_counts()"
   ]
  },
  {
   "cell_type": "code",
   "execution_count": 97,
   "id": "04d88d75-c167-428b-a917-5bb4ebda59bc",
   "metadata": {},
   "outputs": [
    {
     "data": {
      "text/plain": [
       "Work/Study Hours\n",
       "10.0    2875\n",
       "12.0    2129\n",
       "11.0    1988\n",
       "8.0     1686\n",
       "6.0     1501\n",
       "7.0     1395\n",
       "9.0     1385\n",
       "0.0     1070\n",
       "2.0     1025\n",
       "4.0     1021\n",
       "3.0      950\n",
       "5.0      856\n",
       "1.0      750\n",
       "Name: count, dtype: int64"
      ]
     },
     "execution_count": 97,
     "metadata": {},
     "output_type": "execute_result"
    }
   ],
   "source": [
    "main['Work/Study Hours'].value_counts()"
   ]
  },
  {
   "cell_type": "code",
   "execution_count": 98,
   "id": "946ad011-781b-4a62-9706-d9524210b585",
   "metadata": {},
   "outputs": [
    {
     "data": {
      "text/plain": [
       "Financial Stress\n",
       "5.0    4816\n",
       "4.0    4054\n",
       "3.0    3469\n",
       "2.0    3262\n",
       "1.0    3029\n",
       "Name: count, dtype: int64"
      ]
     },
     "execution_count": 98,
     "metadata": {},
     "output_type": "execute_result"
    }
   ],
   "source": [
    "## CHECKING THE FINANCIAL STRESS\n",
    "main['Financial Stress'].value_counts()"
   ]
  },
  {
   "cell_type": "code",
   "execution_count": 99,
   "id": "b05b25d9-3538-44f0-96c0-2d94076b96e4",
   "metadata": {},
   "outputs": [
    {
     "data": {
      "text/plain": [
       "Family History of Mental Illness\n",
       "No     9594\n",
       "Yes    9037\n",
       "Name: count, dtype: int64"
      ]
     },
     "execution_count": 99,
     "metadata": {},
     "output_type": "execute_result"
    }
   ],
   "source": [
    "## CHECKING THE FAMILY HISTORY OF MENTAL ILLNESS\n",
    "main['Family History of Mental Illness'].value_counts()"
   ]
  },
  {
   "cell_type": "code",
   "execution_count": 100,
   "id": "fbe6cc3f-252d-4ce8-916b-1e8562dcd41c",
   "metadata": {},
   "outputs": [
    {
     "data": {
      "text/plain": [
       "Family History of Mental Illness\n",
       "0    9594\n",
       "1    9037\n",
       "Name: count, dtype: int64"
      ]
     },
     "execution_count": 100,
     "metadata": {},
     "output_type": "execute_result"
    }
   ],
   "source": [
    "## CHANGING FAMILY HISTORY OF MENTAL ILLNESS TO NUMERICAL\n",
    "main.loc[main['Family History of Mental Illness'] == 'Yes', 'Family History of Mental Illness'] = 1\n",
    "main.loc[main['Family History of Mental Illness'] == 'No', 'Family History of Mental Illness'] = 0\n",
    "main['Family History of Mental Illness'].value_counts()"
   ]
  },
  {
   "cell_type": "code",
   "execution_count": 101,
   "id": "b0807692-4f1f-4321-b710-31aef39ce505",
   "metadata": {},
   "outputs": [
    {
     "data": {
      "text/html": [
       "<div>\n",
       "<style scoped>\n",
       "    .dataframe tbody tr th:only-of-type {\n",
       "        vertical-align: middle;\n",
       "    }\n",
       "\n",
       "    .dataframe tbody tr th {\n",
       "        vertical-align: top;\n",
       "    }\n",
       "\n",
       "    .dataframe thead th {\n",
       "        text-align: right;\n",
       "    }\n",
       "</style>\n",
       "<table border=\"1\" class=\"dataframe\">\n",
       "  <thead>\n",
       "    <tr style=\"text-align: right;\">\n",
       "      <th></th>\n",
       "      <th>Gender</th>\n",
       "      <th>Age</th>\n",
       "      <th>City</th>\n",
       "      <th>Academic Pressure</th>\n",
       "      <th>CGPA</th>\n",
       "      <th>Study Satisfaction</th>\n",
       "      <th>Sleep Duration</th>\n",
       "      <th>Dietary Habits</th>\n",
       "      <th>Degree</th>\n",
       "      <th>Have you ever had suicidal thoughts ?</th>\n",
       "      <th>Work/Study Hours</th>\n",
       "      <th>Financial Stress</th>\n",
       "      <th>Family History of Mental Illness</th>\n",
       "      <th>Depression</th>\n",
       "      <th>New_Degree</th>\n",
       "    </tr>\n",
       "  </thead>\n",
       "  <tbody>\n",
       "    <tr>\n",
       "      <th>1</th>\n",
       "      <td>1</td>\n",
       "      <td>24.0</td>\n",
       "      <td>Bangalore</td>\n",
       "      <td>2.0</td>\n",
       "      <td>5.90</td>\n",
       "      <td>5.0</td>\n",
       "      <td>1</td>\n",
       "      <td>2</td>\n",
       "      <td>BSc</td>\n",
       "      <td>0</td>\n",
       "      <td>3.0</td>\n",
       "      <td>2.0</td>\n",
       "      <td>1</td>\n",
       "      <td>0</td>\n",
       "      <td>0</td>\n",
       "    </tr>\n",
       "    <tr>\n",
       "      <th>3</th>\n",
       "      <td>1</td>\n",
       "      <td>28.0</td>\n",
       "      <td>Varanasi</td>\n",
       "      <td>3.0</td>\n",
       "      <td>5.59</td>\n",
       "      <td>2.0</td>\n",
       "      <td>2</td>\n",
       "      <td>2</td>\n",
       "      <td>BCA</td>\n",
       "      <td>1</td>\n",
       "      <td>4.0</td>\n",
       "      <td>5.0</td>\n",
       "      <td>1</td>\n",
       "      <td>1</td>\n",
       "      <td>0</td>\n",
       "    </tr>\n",
       "    <tr>\n",
       "      <th>4</th>\n",
       "      <td>1</td>\n",
       "      <td>25.0</td>\n",
       "      <td>Jaipur</td>\n",
       "      <td>4.0</td>\n",
       "      <td>8.13</td>\n",
       "      <td>3.0</td>\n",
       "      <td>1</td>\n",
       "      <td>2</td>\n",
       "      <td>M.Tech</td>\n",
       "      <td>1</td>\n",
       "      <td>1.0</td>\n",
       "      <td>1.0</td>\n",
       "      <td>0</td>\n",
       "      <td>0</td>\n",
       "      <td>1</td>\n",
       "    </tr>\n",
       "    <tr>\n",
       "      <th>8</th>\n",
       "      <td>0</td>\n",
       "      <td>28.0</td>\n",
       "      <td>Nagpur</td>\n",
       "      <td>3.0</td>\n",
       "      <td>9.79</td>\n",
       "      <td>1.0</td>\n",
       "      <td>2</td>\n",
       "      <td>2</td>\n",
       "      <td>B.Ed</td>\n",
       "      <td>1</td>\n",
       "      <td>12.0</td>\n",
       "      <td>3.0</td>\n",
       "      <td>0</td>\n",
       "      <td>1</td>\n",
       "      <td>0</td>\n",
       "    </tr>\n",
       "    <tr>\n",
       "      <th>10</th>\n",
       "      <td>0</td>\n",
       "      <td>24.0</td>\n",
       "      <td>Nagpur</td>\n",
       "      <td>3.0</td>\n",
       "      <td>6.10</td>\n",
       "      <td>3.0</td>\n",
       "      <td>1</td>\n",
       "      <td>2</td>\n",
       "      <td>Class 12</td>\n",
       "      <td>1</td>\n",
       "      <td>11.0</td>\n",
       "      <td>1.0</td>\n",
       "      <td>1</td>\n",
       "      <td>1</td>\n",
       "      <td>2</td>\n",
       "    </tr>\n",
       "  </tbody>\n",
       "</table>\n",
       "</div>"
      ],
      "text/plain": [
       "   Gender   Age       City  Academic Pressure  CGPA  Study Satisfaction  \\\n",
       "1       1  24.0  Bangalore                2.0  5.90                 5.0   \n",
       "3       1  28.0   Varanasi                3.0  5.59                 2.0   \n",
       "4       1  25.0     Jaipur                4.0  8.13                 3.0   \n",
       "8       0  28.0     Nagpur                3.0  9.79                 1.0   \n",
       "10      0  24.0     Nagpur                3.0  6.10                 3.0   \n",
       "\n",
       "   Sleep Duration Dietary Habits    Degree  \\\n",
       "1               1              2       BSc   \n",
       "3               2              2       BCA   \n",
       "4               1              2    M.Tech   \n",
       "8               2              2      B.Ed   \n",
       "10              1              2  Class 12   \n",
       "\n",
       "   Have you ever had suicidal thoughts ?  Work/Study Hours  Financial Stress  \\\n",
       "1                                      0               3.0               2.0   \n",
       "3                                      1               4.0               5.0   \n",
       "4                                      1               1.0               1.0   \n",
       "8                                      1              12.0               3.0   \n",
       "10                                     1              11.0               1.0   \n",
       "\n",
       "   Family History of Mental Illness  Depression New_Degree  \n",
       "1                                 1           0          0  \n",
       "3                                 1           1          0  \n",
       "4                                 0           0          1  \n",
       "8                                 0           1          0  \n",
       "10                                1           1          2  "
      ]
     },
     "execution_count": 101,
     "metadata": {},
     "output_type": "execute_result"
    }
   ],
   "source": [
    "main.head(5)"
   ]
  },
  {
   "cell_type": "code",
   "execution_count": 102,
   "id": "3848db33-0f4c-46e3-b67e-802796d80685",
   "metadata": {},
   "outputs": [],
   "source": [
    "main = main.drop(['Degree'],axis = 1 )"
   ]
  },
  {
   "cell_type": "code",
   "execution_count": 103,
   "id": "049cac7c-20b0-4552-985e-f6a76d8d0fcb",
   "metadata": {
    "scrolled": true
   },
   "outputs": [
    {
     "data": {
      "text/html": [
       "<div>\n",
       "<style scoped>\n",
       "    .dataframe tbody tr th:only-of-type {\n",
       "        vertical-align: middle;\n",
       "    }\n",
       "\n",
       "    .dataframe tbody tr th {\n",
       "        vertical-align: top;\n",
       "    }\n",
       "\n",
       "    .dataframe thead th {\n",
       "        text-align: right;\n",
       "    }\n",
       "</style>\n",
       "<table border=\"1\" class=\"dataframe\">\n",
       "  <thead>\n",
       "    <tr style=\"text-align: right;\">\n",
       "      <th></th>\n",
       "      <th>Gender</th>\n",
       "      <th>Age</th>\n",
       "      <th>City</th>\n",
       "      <th>Academic Pressure</th>\n",
       "      <th>CGPA</th>\n",
       "      <th>Study Satisfaction</th>\n",
       "      <th>Sleep Duration</th>\n",
       "      <th>Dietary Habits</th>\n",
       "      <th>Have you ever had suicidal thoughts ?</th>\n",
       "      <th>Work/Study Hours</th>\n",
       "      <th>Financial Stress</th>\n",
       "      <th>Family History of Mental Illness</th>\n",
       "      <th>Depression</th>\n",
       "      <th>New_Degree</th>\n",
       "    </tr>\n",
       "  </thead>\n",
       "  <tbody>\n",
       "    <tr>\n",
       "      <th>1</th>\n",
       "      <td>1</td>\n",
       "      <td>24.0</td>\n",
       "      <td>Bangalore</td>\n",
       "      <td>2.0</td>\n",
       "      <td>5.90</td>\n",
       "      <td>5.0</td>\n",
       "      <td>1</td>\n",
       "      <td>2</td>\n",
       "      <td>0</td>\n",
       "      <td>3.0</td>\n",
       "      <td>2.0</td>\n",
       "      <td>1</td>\n",
       "      <td>0</td>\n",
       "      <td>0</td>\n",
       "    </tr>\n",
       "    <tr>\n",
       "      <th>3</th>\n",
       "      <td>1</td>\n",
       "      <td>28.0</td>\n",
       "      <td>Varanasi</td>\n",
       "      <td>3.0</td>\n",
       "      <td>5.59</td>\n",
       "      <td>2.0</td>\n",
       "      <td>2</td>\n",
       "      <td>2</td>\n",
       "      <td>1</td>\n",
       "      <td>4.0</td>\n",
       "      <td>5.0</td>\n",
       "      <td>1</td>\n",
       "      <td>1</td>\n",
       "      <td>0</td>\n",
       "    </tr>\n",
       "    <tr>\n",
       "      <th>4</th>\n",
       "      <td>1</td>\n",
       "      <td>25.0</td>\n",
       "      <td>Jaipur</td>\n",
       "      <td>4.0</td>\n",
       "      <td>8.13</td>\n",
       "      <td>3.0</td>\n",
       "      <td>1</td>\n",
       "      <td>2</td>\n",
       "      <td>1</td>\n",
       "      <td>1.0</td>\n",
       "      <td>1.0</td>\n",
       "      <td>0</td>\n",
       "      <td>0</td>\n",
       "      <td>1</td>\n",
       "    </tr>\n",
       "    <tr>\n",
       "      <th>8</th>\n",
       "      <td>0</td>\n",
       "      <td>28.0</td>\n",
       "      <td>Nagpur</td>\n",
       "      <td>3.0</td>\n",
       "      <td>9.79</td>\n",
       "      <td>1.0</td>\n",
       "      <td>2</td>\n",
       "      <td>2</td>\n",
       "      <td>1</td>\n",
       "      <td>12.0</td>\n",
       "      <td>3.0</td>\n",
       "      <td>0</td>\n",
       "      <td>1</td>\n",
       "      <td>0</td>\n",
       "    </tr>\n",
       "    <tr>\n",
       "      <th>10</th>\n",
       "      <td>0</td>\n",
       "      <td>24.0</td>\n",
       "      <td>Nagpur</td>\n",
       "      <td>3.0</td>\n",
       "      <td>6.10</td>\n",
       "      <td>3.0</td>\n",
       "      <td>1</td>\n",
       "      <td>2</td>\n",
       "      <td>1</td>\n",
       "      <td>11.0</td>\n",
       "      <td>1.0</td>\n",
       "      <td>1</td>\n",
       "      <td>1</td>\n",
       "      <td>2</td>\n",
       "    </tr>\n",
       "  </tbody>\n",
       "</table>\n",
       "</div>"
      ],
      "text/plain": [
       "   Gender   Age       City  Academic Pressure  CGPA  Study Satisfaction  \\\n",
       "1       1  24.0  Bangalore                2.0  5.90                 5.0   \n",
       "3       1  28.0   Varanasi                3.0  5.59                 2.0   \n",
       "4       1  25.0     Jaipur                4.0  8.13                 3.0   \n",
       "8       0  28.0     Nagpur                3.0  9.79                 1.0   \n",
       "10      0  24.0     Nagpur                3.0  6.10                 3.0   \n",
       "\n",
       "   Sleep Duration Dietary Habits Have you ever had suicidal thoughts ?  \\\n",
       "1               1              2                                     0   \n",
       "3               2              2                                     1   \n",
       "4               1              2                                     1   \n",
       "8               2              2                                     1   \n",
       "10              1              2                                     1   \n",
       "\n",
       "    Work/Study Hours  Financial Stress Family History of Mental Illness  \\\n",
       "1                3.0               2.0                                1   \n",
       "3                4.0               5.0                                1   \n",
       "4                1.0               1.0                                0   \n",
       "8               12.0               3.0                                0   \n",
       "10              11.0               1.0                                1   \n",
       "\n",
       "    Depression New_Degree  \n",
       "1            0          0  \n",
       "3            1          0  \n",
       "4            0          1  \n",
       "8            1          0  \n",
       "10           1          2  "
      ]
     },
     "execution_count": 103,
     "metadata": {},
     "output_type": "execute_result"
    }
   ],
   "source": [
    "main.head()"
   ]
  },
  {
   "cell_type": "code",
   "execution_count": 104,
   "id": "180e22c9-d76f-46b9-8bcc-4efd77281acc",
   "metadata": {},
   "outputs": [],
   "source": [
    "## CHECKING FOR NULL VALUES AND REMOVING\n",
    "main.isnull().sum()\n",
    "main = main.dropna()\n"
   ]
  },
  {
   "cell_type": "code",
   "execution_count": 105,
   "id": "7cab22fd-ae0a-4b98-a510-f2e51738b213",
   "metadata": {},
   "outputs": [
    {
     "data": {
      "text/html": [
       "<div>\n",
       "<style scoped>\n",
       "    .dataframe tbody tr th:only-of-type {\n",
       "        vertical-align: middle;\n",
       "    }\n",
       "\n",
       "    .dataframe tbody tr th {\n",
       "        vertical-align: top;\n",
       "    }\n",
       "\n",
       "    .dataframe thead th {\n",
       "        text-align: right;\n",
       "    }\n",
       "</style>\n",
       "<table border=\"1\" class=\"dataframe\">\n",
       "  <thead>\n",
       "    <tr style=\"text-align: right;\">\n",
       "      <th></th>\n",
       "      <th>Gender</th>\n",
       "      <th>Age</th>\n",
       "      <th>Academic Pressure</th>\n",
       "      <th>CGPA</th>\n",
       "      <th>Study Satisfaction</th>\n",
       "      <th>Sleep Duration</th>\n",
       "      <th>Dietary Habits</th>\n",
       "      <th>Have you ever had suicidal thoughts ?</th>\n",
       "      <th>Work/Study Hours</th>\n",
       "      <th>Financial Stress</th>\n",
       "      <th>Family History of Mental Illness</th>\n",
       "      <th>Depression</th>\n",
       "      <th>New_Degree</th>\n",
       "    </tr>\n",
       "  </thead>\n",
       "  <tbody>\n",
       "    <tr>\n",
       "      <th>1</th>\n",
       "      <td>1</td>\n",
       "      <td>24.0</td>\n",
       "      <td>2.0</td>\n",
       "      <td>5.90</td>\n",
       "      <td>5.0</td>\n",
       "      <td>1</td>\n",
       "      <td>2</td>\n",
       "      <td>0</td>\n",
       "      <td>3.0</td>\n",
       "      <td>2.0</td>\n",
       "      <td>1</td>\n",
       "      <td>0</td>\n",
       "      <td>0</td>\n",
       "    </tr>\n",
       "    <tr>\n",
       "      <th>3</th>\n",
       "      <td>1</td>\n",
       "      <td>28.0</td>\n",
       "      <td>3.0</td>\n",
       "      <td>5.59</td>\n",
       "      <td>2.0</td>\n",
       "      <td>2</td>\n",
       "      <td>2</td>\n",
       "      <td>1</td>\n",
       "      <td>4.0</td>\n",
       "      <td>5.0</td>\n",
       "      <td>1</td>\n",
       "      <td>1</td>\n",
       "      <td>0</td>\n",
       "    </tr>\n",
       "    <tr>\n",
       "      <th>4</th>\n",
       "      <td>1</td>\n",
       "      <td>25.0</td>\n",
       "      <td>4.0</td>\n",
       "      <td>8.13</td>\n",
       "      <td>3.0</td>\n",
       "      <td>1</td>\n",
       "      <td>2</td>\n",
       "      <td>1</td>\n",
       "      <td>1.0</td>\n",
       "      <td>1.0</td>\n",
       "      <td>0</td>\n",
       "      <td>0</td>\n",
       "      <td>1</td>\n",
       "    </tr>\n",
       "  </tbody>\n",
       "</table>\n",
       "</div>"
      ],
      "text/plain": [
       "  Gender   Age  Academic Pressure  CGPA  Study Satisfaction Sleep Duration  \\\n",
       "1      1  24.0                2.0  5.90                 5.0              1   \n",
       "3      1  28.0                3.0  5.59                 2.0              2   \n",
       "4      1  25.0                4.0  8.13                 3.0              1   \n",
       "\n",
       "  Dietary Habits Have you ever had suicidal thoughts ?  Work/Study Hours  \\\n",
       "1              2                                     0               3.0   \n",
       "3              2                                     1               4.0   \n",
       "4              2                                     1               1.0   \n",
       "\n",
       "   Financial Stress Family History of Mental Illness  Depression New_Degree  \n",
       "1               2.0                                1           0          0  \n",
       "3               5.0                                1           1          0  \n",
       "4               1.0                                0           0          1  "
      ]
     },
     "execution_count": 105,
     "metadata": {},
     "output_type": "execute_result"
    }
   ],
   "source": [
    "##CREATING A NEW DF TO CHECK IF THERE IS ANY CORRELATION BETWEEN THE NUMERIC VARIABLES\n",
    "main_data = main[['Gender', 'Age', 'Academic Pressure', 'CGPA',\n",
    "       'Study Satisfaction', 'Sleep Duration', 'Dietary Habits',\n",
    "       'Have you ever had suicidal thoughts ?', 'Work/Study Hours',\n",
    "       'Financial Stress', 'Family History of Mental Illness', 'Depression',\n",
    "       'New_Degree']]\n",
    "main_data.head(3)"
   ]
  },
  {
   "cell_type": "code",
   "execution_count": 106,
   "id": "e01d0060-4d63-4e9b-aed0-9b8d844dcc7c",
   "metadata": {},
   "outputs": [
    {
     "data": {
      "image/png": "[encoded data removed]",
      "text/plain": [
       "<Figure size 2000x1000 with 2 Axes>"
      ]
     },
     "metadata": {},
     "output_type": "display_data"
    }
   ],
   "source": [
    "## PLOTTING THE CORRELATION MATRIX\n",
    "plt.figure(figsize=(20, 10))\n",
    "sns.heatmap(main_data.corr(), annot=True, cmap='coolwarm')\n",
    "plt.show()"
   ]
  },
  {
   "cell_type": "code",
   "execution_count": 107,
   "id": "8bf4c43e-ea99-4e62-9ec9-74cb60bff3c9",
   "metadata": {},
   "outputs": [
    {
     "data": {
      "text/plain": [
       "Index(['Gender', 'Age', 'City', 'Academic Pressure', 'CGPA',\n",
       "       'Study Satisfaction', 'Sleep Duration', 'Dietary Habits',\n",
       "       'Have you ever had suicidal thoughts ?', 'Work/Study Hours',\n",
       "       'Financial Stress', 'Family History of Mental Illness', 'Depression',\n",
       "       'New_Degree', 'City_Agra', 'City_Ahmedabad', 'City_Bangalore',\n",
       "       'City_Bhopal', 'City_Chennai', 'City_Delhi', 'City_Faridabad',\n",
       "       'City_Ghaziabad', 'City_Hyderabad', 'City_Indore', 'City_Jaipur',\n",
       "       'City_Kalyan', 'City_Kanpur', 'City_Kolkata', 'City_Lucknow',\n",
       "       'City_Ludhiana', 'City_Meerut', 'City_Mumbai', 'City_Nagpur',\n",
       "       'City_Nashik', 'City_Patna', 'City_Pune', 'City_Rajkot',\n",
       "       'City_Srinagar', 'City_Surat', 'City_Thane', 'City_Vadodara',\n",
       "       'City_Varanasi', 'City_Vasai-Virar', 'City_Visakhapatnam'],\n",
       "      dtype='object')"
      ]
     },
     "execution_count": 107,
     "metadata": {},
     "output_type": "execute_result"
    }
   ],
   "source": [
    "## CREATING DUMMY VARIABLES FOR THE CITY COLUMN\n",
    "\n",
    "encoder = OneHotEncoder(sparse_output=False)  \n",
    "encoded = encoder.fit_transform(main[['City']])\n",
    "encoded_df = pd.DataFrame(encoded, columns=encoder.get_feature_names_out(['City']))\n",
    "## ADJUSTING THE INDEX\n",
    "encoded_df.index = main.index\n",
    "main_encoded = pd.concat([main, encoded_df], axis=1)\n",
    "\n",
    "## CHECKING THE NEW DF\n",
    "main_encoded.columns"
   ]
  },
  {
   "cell_type": "code",
   "execution_count": 108,
   "id": "e54ae5c9-a88f-44a8-8099-bdca326f043e",
   "metadata": {},
   "outputs": [],
   "source": [
    "main_encoded = main_encoded.drop(['City'], axis=1)"
   ]
  },
  {
   "cell_type": "code",
   "execution_count": 109,
   "id": "49b1b221-2ea8-4eb5-9aff-8042f8086d37",
   "metadata": {},
   "outputs": [
    {
     "name": "stdout",
     "output_type": "stream",
     "text": [
      "[[1 24.0 2.0 ... 0.0 0.0 0.0]\n",
      " [1 28.0 3.0 ... 1.0 0.0 0.0]\n",
      " [1 25.0 4.0 ... 0.0 0.0 0.0]\n",
      " ...\n",
      " [0 27.0 2.0 ... 0.0 0.0 0.0]\n",
      " [1 18.0 5.0 ... 0.0 0.0 0.0]\n",
      " [0 27.0 4.0 ... 0.0 0.0 0.0]]\n"
     ]
    }
   ],
   "source": [
    "x = main_encoded.drop('Depression', axis=1).values  # Features\n",
    "y = main_encoded['Depression'].values\n",
    "print(x)"
   ]
  },
  {
   "cell_type": "code",
   "execution_count": 110,
   "id": "d167227b-6e3c-4c5a-86e0-fca17dbd0934",
   "metadata": {},
   "outputs": [
    {
     "name": "stdout",
     "output_type": "stream",
     "text": [
      "[0 1 0 ... 0 1 1]\n"
     ]
    }
   ],
   "source": [
    "print(y)"
   ]
  },
  {
   "cell_type": "code",
   "execution_count": 111,
   "id": "2a3af987-6f8a-4823-a6e4-2ebc0bb46288",
   "metadata": {},
   "outputs": [
    {
     "name": "stdout",
     "output_type": "stream",
     "text": [
      "the shape of the inputs x is: (17700, 42)\n",
      "the shape of the targets y is: (17700,)\n"
     ]
    }
   ],
   "source": [
    "print(f\"the shape of the inputs x is: {x.shape}\")\n",
    "print(f\"the shape of the targets y is: {y.shape}\")"
   ]
  },
  {
   "cell_type": "code",
   "execution_count": 143,
   "id": "c537c028-c131-4811-a2bf-10fb0b8223f8",
   "metadata": {},
   "outputs": [
    {
     "name": "stdout",
     "output_type": "stream",
     "text": [
      "Accuracy: 85.31%\n"
     ]
    }
   ],
   "source": [
    "## SPLITTING THE DATA INTO TRAIN AND TEST\n",
    "X_train, X_test, y_train, y_test = train_test_split(x, y, test_size=0.4, random_state=42)\n",
    "\n",
    "## NORMALIZING THE DATA FEATURES USING STANDARD SCALER\n",
    "scaler = StandardScaler()\n",
    "X_train_scaled = scaler.fit_transform(X_train)\n",
    "X_test_scaled = scaler.transform(X_test)\n",
    "\n",
    "## TRAINING THE MODEL USING LOGISTIC REGRESSION\n",
    "model = LogisticRegression()\n",
    "model.fit(X_train_scaled, y_train)\n",
    "\n",
    "## SCORE\n",
    "score = model.score(X_test_scaled, y_test)\n",
    "print(f\"Accuracy: {score*100:.2f}%\")"
   ]
  },
  {
   "cell_type": "code",
   "execution_count": 144,
   "id": "1c05cf84",
   "metadata": {},
   "outputs": [],
   "source": [
    "models = {\n",
    "   \"Logistic Regression\" : LogisticRegression() ,\n",
    "   \"Decision Tree\" : DecisionTreeClassifier( random_state=42,\n",
    "    max_depth=None,        \n",
    "    min_samples_split=10, \n",
    "    min_samples_leaf=5,   \n",
    "    criterion='entropy',    \n",
    "    max_features='sqrt' ),\n",
    "   \"Random Forest\" : RandomForestClassifier(  random_state=42,\n",
    "    n_estimators=140,    \n",
    "    max_depth=None,       \n",
    "    min_samples_split=15,  \n",
    "    min_samples_leaf=5,   \n",
    "    max_features='sqrt',   \n",
    "    bootstrap=True,      \n",
    "    oob_score=True     ),    \n",
    "    \"XGBoost\" : xgb.XGBClassifier ( random_state=42,\n",
    "    n_estimators=200,        # Number of boosting rounds.\n",
    "    max_depth=6,             # Maximum depth of a tree.\n",
    "    learning_rate=0.1,       # Step size shrinkage to prevent overfitting.\n",
    "    subsample=0.8,           # Subsample ratio of training samples.\n",
    "    colsample_bytree=0.8,    # Subsample ratio of columns per tree.\n",
    "    gamma=0,                 # Minimum loss reduction to split a node.\n",
    "    reg_alpha=0,             # L1 regularization term on weights.\n",
    "    reg_lambda=1     )\n",
    "    }\n",
    "\n",
    "accuracy_results = {} \n",
    "\n",
    "\n",
    "for name, model in models.items():\n",
    "    model.fit(X_train_scaled, y_train)  \n",
    "    y_pred = model.predict(X_test_scaled) \n",
    "    accuracy = accuracy_score(y_test, y_pred)  \n",
    "    accuracy_results[name] = accuracy \n",
    "\n",
    "## ORDERING THE ACCURACY RESULTS FROM HIGHEST TO LOWEST\n",
    "accuracy_results_ordened = dict(sorted(accuracy_results.items(), key=lambda item: item[1], reverse=True))\n",
    "\n"
   ]
  },
  {
   "cell_type": "code",
   "execution_count": 145,
   "id": "3018f054",
   "metadata": {},
   "outputs": [
    {
     "data": {
      "image/png": "[encoded data removed]",
      "text/plain": [
       "<Figure size 1500x600 with 1 Axes>"
      ]
     },
     "metadata": {},
     "output_type": "display_data"
    }
   ],
   "source": [
    "plt.figure(figsize=(15, 6))\n",
    "sns.barplot(x=list(accuracy_results_ordened.values()), \n",
    "            y=list(accuracy_results_ordened.keys()), \n",
    "            palette='viridis')\n",
    "plt.xlabel('Accuracy')\n",
    "plt.title('Model Accuracy')\n",
    "for i, v in enumerate(accuracy_results_ordened.values()):\n",
    "    plt.text(v, i, f'{v*100:.2f}%', color='black', va='center')\n",
    "plt.show()"
   ]
  }
 ],
 "metadata": {
  "kernelspec": {
   "display_name": "Python 3 (ipykernel)",
   "language": "python",
   "name": "python3"
  },
  "language_info": {
   "codemirror_mode": {
    "name": "ipython",
    "version": 3
   },
   "file_extension": ".py",
   "mimetype": "text/x-python",
   "name": "python",
   "nbconvert_exporter": "python",
   "pygments_lexer": "ipython3",
   "version": "3.13.0"
  }
 },
 "nbformat": 4,
 "nbformat_minor": 5
}
